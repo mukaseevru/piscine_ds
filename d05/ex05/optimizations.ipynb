{
 "cells": [
  {
   "cell_type": "markdown",
   "id": "79c93991",
   "metadata": {},
   "source": [
    "## Imports"
   ]
  },
  {
   "cell_type": "code",
   "execution_count": 1,
   "id": "8616dd09",
   "metadata": {},
   "outputs": [],
   "source": [
    "import pandas as pd"
   ]
  },
  {
   "cell_type": "markdown",
   "id": "0ad9fcda",
   "metadata": {},
   "source": [
    "## read the fines.csv that you saved in the previous exercise"
   ]
  },
  {
   "cell_type": "code",
   "execution_count": 2,
   "id": "2aa1f095",
   "metadata": {},
   "outputs": [
    {
     "data": {
      "text/html": [
       "<div>\n",
       "<style scoped>\n",
       "    .dataframe tbody tr th:only-of-type {\n",
       "        vertical-align: middle;\n",
       "    }\n",
       "\n",
       "    .dataframe tbody tr th {\n",
       "        vertical-align: top;\n",
       "    }\n",
       "\n",
       "    .dataframe thead th {\n",
       "        text-align: right;\n",
       "    }\n",
       "</style>\n",
       "<table border=\"1\" class=\"dataframe\">\n",
       "  <thead>\n",
       "    <tr style=\"text-align: right;\">\n",
       "      <th></th>\n",
       "      <th>CarNumber</th>\n",
       "      <th>Refund</th>\n",
       "      <th>Fines</th>\n",
       "      <th>Make</th>\n",
       "      <th>Model</th>\n",
       "      <th>Year</th>\n",
       "    </tr>\n",
       "  </thead>\n",
       "  <tbody>\n",
       "    <tr>\n",
       "      <th>0</th>\n",
       "      <td>Y163O8161RUS</td>\n",
       "      <td>2</td>\n",
       "      <td>3200.0</td>\n",
       "      <td>Ford</td>\n",
       "      <td>Focus</td>\n",
       "      <td>1989</td>\n",
       "    </tr>\n",
       "    <tr>\n",
       "      <th>1</th>\n",
       "      <td>E432XX77RUS</td>\n",
       "      <td>1</td>\n",
       "      <td>6500.0</td>\n",
       "      <td>Toyota</td>\n",
       "      <td>Camry</td>\n",
       "      <td>1995</td>\n",
       "    </tr>\n",
       "    <tr>\n",
       "      <th>2</th>\n",
       "      <td>7184TT36RUS</td>\n",
       "      <td>1</td>\n",
       "      <td>2100.0</td>\n",
       "      <td>Ford</td>\n",
       "      <td>Focus</td>\n",
       "      <td>1984</td>\n",
       "    </tr>\n",
       "    <tr>\n",
       "      <th>3</th>\n",
       "      <td>X582HE161RUS</td>\n",
       "      <td>2</td>\n",
       "      <td>2000.0</td>\n",
       "      <td>Ford</td>\n",
       "      <td>Focus</td>\n",
       "      <td>2015</td>\n",
       "    </tr>\n",
       "    <tr>\n",
       "      <th>4</th>\n",
       "      <td>92918M178RUS</td>\n",
       "      <td>1</td>\n",
       "      <td>5700.0</td>\n",
       "      <td>Ford</td>\n",
       "      <td>Focus</td>\n",
       "      <td>2014</td>\n",
       "    </tr>\n",
       "  </tbody>\n",
       "</table>\n",
       "</div>"
      ],
      "text/plain": [
       "      CarNumber  Refund   Fines    Make  Model  Year\n",
       "0  Y163O8161RUS       2  3200.0    Ford  Focus  1989\n",
       "1   E432XX77RUS       1  6500.0  Toyota  Camry  1995\n",
       "2   7184TT36RUS       1  2100.0    Ford  Focus  1984\n",
       "3  X582HE161RUS       2  2000.0    Ford  Focus  2015\n",
       "4  92918M178RUS       1  5700.0    Ford  Focus  2014"
      ]
     },
     "execution_count": 2,
     "metadata": {},
     "output_type": "execute_result"
    }
   ],
   "source": [
    "df = pd.read_csv('../data/fines.csv')\n",
    "df.head()"
   ]
  },
  {
   "cell_type": "markdown",
   "id": "7af57d7e",
   "metadata": {},
   "source": [
    "## iterations: in all the following subtasks, you need to calculate fines/refund*year for each row and create a new column with the calculated data and measure the time using the magic command %%timeit in the cell"
   ]
  },
  {
   "cell_type": "code",
   "execution_count": 3,
   "id": "ce55c0a4",
   "metadata": {},
   "outputs": [
    {
     "name": "stdout",
     "output_type": "stream",
     "text": [
      "CPU times: user 372 ms, sys: 6.73 ms, total: 379 ms\n",
      "Wall time: 387 ms\n"
     ]
    }
   ],
   "source": [
    "%%time\n",
    "new_col = []\n",
    "for i in range(0, len(df)):\n",
    "    new_col.append(df.iloc[i]['Fines'] / (df.iloc[i]\n",
    "                   ['Refund'] * df.iloc[i]['Year']))\n",
    "df['Fines / Refund * Year'] = new_col"
   ]
  },
  {
   "cell_type": "code",
   "execution_count": 4,
   "id": "c3ff988b",
   "metadata": {},
   "outputs": [],
   "source": [
    "df = df.drop(['Fines / Refund * Year'], axis=1)"
   ]
  },
  {
   "cell_type": "code",
   "execution_count": 5,
   "id": "7320716d",
   "metadata": {},
   "outputs": [
    {
     "name": "stdout",
     "output_type": "stream",
     "text": [
      "CPU times: user 111 ms, sys: 4.74 ms, total: 115 ms\n",
      "Wall time: 121 ms\n"
     ]
    }
   ],
   "source": [
    "%%time\n",
    "new_col = []\n",
    "for index, row in df.iterrows():\n",
    "    new_col.append(row['Fines'] / (row['Refund'] * row['Year']))\n",
    "df['Fines / Refund * Year'] = new_col"
   ]
  },
  {
   "cell_type": "code",
   "execution_count": 6,
   "id": "2c86b16b",
   "metadata": {},
   "outputs": [],
   "source": [
    "df = df.drop(['Fines / Refund * Year'], axis=1)"
   ]
  },
  {
   "cell_type": "code",
   "execution_count": 7,
   "id": "7010eeb4",
   "metadata": {},
   "outputs": [
    {
     "name": "stdout",
     "output_type": "stream",
     "text": [
      "CPU times: user 24.9 ms, sys: 3.82 ms, total: 28.8 ms\n",
      "Wall time: 32.2 ms\n"
     ]
    }
   ],
   "source": [
    "%%time\n",
    "df['Fines / Refund * Year'] = df.apply(\n",
    "    lambda row: row['Fines'] / (row['Refund'] * row['Year']), axis=1)"
   ]
  },
  {
   "cell_type": "code",
   "execution_count": 8,
   "id": "bbdac5d0",
   "metadata": {},
   "outputs": [],
   "source": [
    "df = df.drop(['Fines / Refund * Year'], axis=1)"
   ]
  },
  {
   "cell_type": "code",
   "execution_count": 9,
   "id": "9b6ab34d",
   "metadata": {},
   "outputs": [
    {
     "name": "stdout",
     "output_type": "stream",
     "text": [
      "CPU times: user 9.93 ms, sys: 5.76 ms, total: 15.7 ms\n",
      "Wall time: 23.2 ms\n"
     ]
    }
   ],
   "source": [
    "%%time\n",
    "df['Fines / Refund * Year'] = df['Fines'] / (df['Refund'] * df['Year'])"
   ]
  },
  {
   "cell_type": "code",
   "execution_count": 10,
   "id": "4b303c34",
   "metadata": {},
   "outputs": [],
   "source": [
    "df = df.drop(['Fines / Refund * Year'], axis=1)"
   ]
  },
  {
   "cell_type": "code",
   "execution_count": 11,
   "id": "e0b68690",
   "metadata": {},
   "outputs": [
    {
     "name": "stdout",
     "output_type": "stream",
     "text": [
      "CPU times: user 2.11 ms, sys: 1.01 ms, total: 3.12 ms\n",
      "Wall time: 2.77 ms\n"
     ]
    }
   ],
   "source": [
    "%%time\n",
    "df['Fines / Refund * Year'] = df['Fines'].values / \\\n",
    "    (df['Refund'].values * df['Year'].values)"
   ]
  },
  {
   "cell_type": "code",
   "execution_count": 12,
   "id": "4b9f7688",
   "metadata": {},
   "outputs": [],
   "source": [
    "df = df.drop(['Fines / Refund * Year'], axis=1)"
   ]
  },
  {
   "cell_type": "markdown",
   "id": "e7e87800",
   "metadata": {},
   "source": [
    "## indexing: measure the time using the magic command %%timeit in the cell"
   ]
  },
  {
   "cell_type": "code",
   "execution_count": 13,
   "id": "7254c1f4",
   "metadata": {},
   "outputs": [
    {
     "name": "stdout",
     "output_type": "stream",
     "text": [
      "CPU times: user 1.67 ms, sys: 169 µs, total: 1.84 ms\n",
      "Wall time: 1.84 ms\n"
     ]
    },
    {
     "data": {
      "text/html": [
       "<div>\n",
       "<style scoped>\n",
       "    .dataframe tbody tr th:only-of-type {\n",
       "        vertical-align: middle;\n",
       "    }\n",
       "\n",
       "    .dataframe tbody tr th {\n",
       "        vertical-align: top;\n",
       "    }\n",
       "\n",
       "    .dataframe thead th {\n",
       "        text-align: right;\n",
       "    }\n",
       "</style>\n",
       "<table border=\"1\" class=\"dataframe\">\n",
       "  <thead>\n",
       "    <tr style=\"text-align: right;\">\n",
       "      <th></th>\n",
       "      <th>CarNumber</th>\n",
       "      <th>Refund</th>\n",
       "      <th>Fines</th>\n",
       "      <th>Make</th>\n",
       "      <th>Model</th>\n",
       "      <th>Year</th>\n",
       "    </tr>\n",
       "  </thead>\n",
       "  <tbody>\n",
       "    <tr>\n",
       "      <th>715</th>\n",
       "      <td>O136HO197RUS</td>\n",
       "      <td>2</td>\n",
       "      <td>7800.0</td>\n",
       "      <td>Toyota</td>\n",
       "      <td>Corolla</td>\n",
       "      <td>1999</td>\n",
       "    </tr>\n",
       "    <tr>\n",
       "      <th>902</th>\n",
       "      <td>O136HO197RUS</td>\n",
       "      <td>2</td>\n",
       "      <td>7800.0</td>\n",
       "      <td>Toyota</td>\n",
       "      <td>Corolla</td>\n",
       "      <td>1998</td>\n",
       "    </tr>\n",
       "  </tbody>\n",
       "</table>\n",
       "</div>"
      ],
      "text/plain": [
       "        CarNumber  Refund   Fines    Make    Model  Year\n",
       "715  O136HO197RUS       2  7800.0  Toyota  Corolla  1999\n",
       "902  O136HO197RUS       2  7800.0  Toyota  Corolla  1998"
      ]
     },
     "execution_count": 13,
     "metadata": {},
     "output_type": "execute_result"
    }
   ],
   "source": [
    "%%time\n",
    "df.loc[df['CarNumber'] == 'O136HO197RUS']"
   ]
  },
  {
   "cell_type": "code",
   "execution_count": 14,
   "id": "73acc490",
   "metadata": {},
   "outputs": [
    {
     "data": {
      "text/html": [
       "<div>\n",
       "<style scoped>\n",
       "    .dataframe tbody tr th:only-of-type {\n",
       "        vertical-align: middle;\n",
       "    }\n",
       "\n",
       "    .dataframe tbody tr th {\n",
       "        vertical-align: top;\n",
       "    }\n",
       "\n",
       "    .dataframe thead th {\n",
       "        text-align: right;\n",
       "    }\n",
       "</style>\n",
       "<table border=\"1\" class=\"dataframe\">\n",
       "  <thead>\n",
       "    <tr style=\"text-align: right;\">\n",
       "      <th></th>\n",
       "      <th>Refund</th>\n",
       "      <th>Fines</th>\n",
       "      <th>Make</th>\n",
       "      <th>Model</th>\n",
       "      <th>Year</th>\n",
       "    </tr>\n",
       "    <tr>\n",
       "      <th>CarNumber</th>\n",
       "      <th></th>\n",
       "      <th></th>\n",
       "      <th></th>\n",
       "      <th></th>\n",
       "      <th></th>\n",
       "    </tr>\n",
       "  </thead>\n",
       "  <tbody>\n",
       "    <tr>\n",
       "      <th>Y163O8161RUS</th>\n",
       "      <td>2</td>\n",
       "      <td>3200.0</td>\n",
       "      <td>Ford</td>\n",
       "      <td>Focus</td>\n",
       "      <td>1989</td>\n",
       "    </tr>\n",
       "    <tr>\n",
       "      <th>E432XX77RUS</th>\n",
       "      <td>1</td>\n",
       "      <td>6500.0</td>\n",
       "      <td>Toyota</td>\n",
       "      <td>Camry</td>\n",
       "      <td>1995</td>\n",
       "    </tr>\n",
       "    <tr>\n",
       "      <th>7184TT36RUS</th>\n",
       "      <td>1</td>\n",
       "      <td>2100.0</td>\n",
       "      <td>Ford</td>\n",
       "      <td>Focus</td>\n",
       "      <td>1984</td>\n",
       "    </tr>\n",
       "    <tr>\n",
       "      <th>X582HE161RUS</th>\n",
       "      <td>2</td>\n",
       "      <td>2000.0</td>\n",
       "      <td>Ford</td>\n",
       "      <td>Focus</td>\n",
       "      <td>2015</td>\n",
       "    </tr>\n",
       "    <tr>\n",
       "      <th>92918M178RUS</th>\n",
       "      <td>1</td>\n",
       "      <td>5700.0</td>\n",
       "      <td>Ford</td>\n",
       "      <td>Focus</td>\n",
       "      <td>2014</td>\n",
       "    </tr>\n",
       "  </tbody>\n",
       "</table>\n",
       "</div>"
      ],
      "text/plain": [
       "              Refund   Fines    Make  Model  Year\n",
       "CarNumber                                        \n",
       "Y163O8161RUS       2  3200.0    Ford  Focus  1989\n",
       "E432XX77RUS        1  6500.0  Toyota  Camry  1995\n",
       "7184TT36RUS        1  2100.0    Ford  Focus  1984\n",
       "X582HE161RUS       2  2000.0    Ford  Focus  2015\n",
       "92918M178RUS       1  5700.0    Ford  Focus  2014"
      ]
     },
     "execution_count": 14,
     "metadata": {},
     "output_type": "execute_result"
    }
   ],
   "source": [
    "df = df.set_index('CarNumber')\n",
    "df.head()"
   ]
  },
  {
   "cell_type": "code",
   "execution_count": 15,
   "id": "7367bf56",
   "metadata": {},
   "outputs": [
    {
     "name": "stdout",
     "output_type": "stream",
     "text": [
      "CPU times: user 1.18 ms, sys: 62 µs, total: 1.24 ms\n",
      "Wall time: 2.38 ms\n"
     ]
    },
    {
     "data": {
      "text/html": [
       "<div>\n",
       "<style scoped>\n",
       "    .dataframe tbody tr th:only-of-type {\n",
       "        vertical-align: middle;\n",
       "    }\n",
       "\n",
       "    .dataframe tbody tr th {\n",
       "        vertical-align: top;\n",
       "    }\n",
       "\n",
       "    .dataframe thead th {\n",
       "        text-align: right;\n",
       "    }\n",
       "</style>\n",
       "<table border=\"1\" class=\"dataframe\">\n",
       "  <thead>\n",
       "    <tr style=\"text-align: right;\">\n",
       "      <th></th>\n",
       "      <th>Refund</th>\n",
       "      <th>Fines</th>\n",
       "      <th>Make</th>\n",
       "      <th>Model</th>\n",
       "      <th>Year</th>\n",
       "    </tr>\n",
       "    <tr>\n",
       "      <th>CarNumber</th>\n",
       "      <th></th>\n",
       "      <th></th>\n",
       "      <th></th>\n",
       "      <th></th>\n",
       "      <th></th>\n",
       "    </tr>\n",
       "  </thead>\n",
       "  <tbody>\n",
       "    <tr>\n",
       "      <th>O136HO197RUS</th>\n",
       "      <td>2</td>\n",
       "      <td>7800.0</td>\n",
       "      <td>Toyota</td>\n",
       "      <td>Corolla</td>\n",
       "      <td>1999</td>\n",
       "    </tr>\n",
       "    <tr>\n",
       "      <th>O136HO197RUS</th>\n",
       "      <td>2</td>\n",
       "      <td>7800.0</td>\n",
       "      <td>Toyota</td>\n",
       "      <td>Corolla</td>\n",
       "      <td>1998</td>\n",
       "    </tr>\n",
       "  </tbody>\n",
       "</table>\n",
       "</div>"
      ],
      "text/plain": [
       "              Refund   Fines    Make    Model  Year\n",
       "CarNumber                                          \n",
       "O136HO197RUS       2  7800.0  Toyota  Corolla  1999\n",
       "O136HO197RUS       2  7800.0  Toyota  Corolla  1998"
      ]
     },
     "execution_count": 15,
     "metadata": {},
     "output_type": "execute_result"
    }
   ],
   "source": [
    "%%time\n",
    "df.loc['O136HO197RUS']"
   ]
  },
  {
   "cell_type": "markdown",
   "id": "ccd6a396",
   "metadata": {},
   "source": [
    "## downcasting:"
   ]
  },
  {
   "cell_type": "code",
   "execution_count": 16,
   "id": "b2a30a02",
   "metadata": {},
   "outputs": [
    {
     "name": "stdout",
     "output_type": "stream",
     "text": [
      "<class 'pandas.core.frame.DataFrame'>\n",
      "Index: 930 entries, Y163O8161RUS to Y977PX77RUS\n",
      "Data columns (total 5 columns):\n",
      " #   Column  Non-Null Count  Dtype  \n",
      "---  ------  --------------  -----  \n",
      " 0   Refund  930 non-null    int64  \n",
      " 1   Fines   930 non-null    float64\n",
      " 2   Make    930 non-null    object \n",
      " 3   Model   919 non-null    object \n",
      " 4   Year    930 non-null    int64  \n",
      "dtypes: float64(1), int64(2), object(2)\n",
      "memory usage: 212.6 KB\n"
     ]
    }
   ],
   "source": [
    "df.info(memory_usage='deep')"
   ]
  },
  {
   "cell_type": "code",
   "execution_count": 17,
   "id": "d07a267c",
   "metadata": {},
   "outputs": [],
   "source": [
    "optimized = df.copy()"
   ]
  },
  {
   "cell_type": "code",
   "execution_count": 18,
   "id": "d8e08c25",
   "metadata": {},
   "outputs": [],
   "source": [
    "optimized['Fines'] = pd.to_numeric(optimized['Fines'], downcast='float')\n",
    "optimized['Refund'] = pd.to_numeric(optimized['Refund'], downcast='integer')\n",
    "optimized['Year'] = pd.to_numeric(optimized['Year'], downcast='integer')"
   ]
  },
  {
   "cell_type": "code",
   "execution_count": 19,
   "id": "d076226d",
   "metadata": {},
   "outputs": [
    {
     "name": "stdout",
     "output_type": "stream",
     "text": [
      "<class 'pandas.core.frame.DataFrame'>\n",
      "Index: 930 entries, Y163O8161RUS to Y977PX77RUS\n",
      "Data columns (total 5 columns):\n",
      " #   Column  Non-Null Count  Dtype  \n",
      "---  ------  --------------  -----  \n",
      " 0   Refund  930 non-null    int8   \n",
      " 1   Fines   930 non-null    float32\n",
      " 2   Make    930 non-null    object \n",
      " 3   Model   919 non-null    object \n",
      " 4   Year    930 non-null    int16  \n",
      "dtypes: float32(1), int16(1), int8(1), object(2)\n",
      "memory usage: 197.1 KB\n"
     ]
    }
   ],
   "source": [
    "optimized.info(memory_usage='deep')"
   ]
  },
  {
   "cell_type": "markdown",
   "id": "a1795f64",
   "metadata": {},
   "source": [
    "## categories:"
   ]
  },
  {
   "cell_type": "code",
   "execution_count": 20,
   "id": "0ff60633",
   "metadata": {},
   "outputs": [],
   "source": [
    "optimized = optimized.reset_index()\n",
    "optimized['CarNumber'] = optimized['Make'].astype('category')\n",
    "optimized['Make'] = optimized['Make'].astype('category')\n",
    "optimized['Model'] = optimized['Model'].astype('category')"
   ]
  },
  {
   "cell_type": "code",
   "execution_count": 21,
   "id": "f41cd7af",
   "metadata": {
    "scrolled": true
   },
   "outputs": [
    {
     "name": "stdout",
     "output_type": "stream",
     "text": [
      "<class 'pandas.core.frame.DataFrame'>\n",
      "RangeIndex: 930 entries, 0 to 929\n",
      "Data columns (total 6 columns):\n",
      " #   Column     Non-Null Count  Dtype   \n",
      "---  ------     --------------  -----   \n",
      " 0   CarNumber  930 non-null    category\n",
      " 1   Refund     930 non-null    int8    \n",
      " 2   Fines      930 non-null    float32 \n",
      " 3   Make       930 non-null    category\n",
      " 4   Model      919 non-null    category\n",
      " 5   Year       930 non-null    int16   \n",
      "dtypes: category(3), float32(1), int16(1), int8(1)\n",
      "memory usage: 11.5 KB\n"
     ]
    }
   ],
   "source": [
    "optimized.info(memory_usage='deep')"
   ]
  },
  {
   "cell_type": "markdown",
   "id": "5777c87e",
   "metadata": {},
   "source": [
    "## memory clean"
   ]
  },
  {
   "cell_type": "code",
   "execution_count": 22,
   "id": "a9c59f7d",
   "metadata": {},
   "outputs": [],
   "source": [
    "%reset_selective -f df"
   ]
  },
  {
   "cell_type": "code",
   "execution_count": 23,
   "id": "692f87a0",
   "metadata": {},
   "outputs": [
    {
     "ename": "NameError",
     "evalue": "name 'df' is not defined",
     "output_type": "error",
     "traceback": [
      "\u001b[0;31m---------------------------------------------------------------------------\u001b[0m",
      "\u001b[0;31mNameError\u001b[0m                                 Traceback (most recent call last)",
      "\u001b[0;32m<ipython-input-23-00cf07b74dcd>\u001b[0m in \u001b[0;36m<module>\u001b[0;34m\u001b[0m\n\u001b[0;32m----> 1\u001b[0;31m \u001b[0mdf\u001b[0m\u001b[0;34m\u001b[0m\u001b[0;34m\u001b[0m\u001b[0m\n\u001b[0m",
      "\u001b[0;31mNameError\u001b[0m: name 'df' is not defined"
     ]
    }
   ],
   "source": [
    "df"
   ]
  }
 ],
 "metadata": {
  "kernelspec": {
   "display_name": "Python 3",
   "language": "python",
   "name": "python3"
  },
  "language_info": {
   "codemirror_mode": {
    "name": "ipython",
    "version": 3
   },
   "file_extension": ".py",
   "mimetype": "text/x-python",
   "name": "python",
   "nbconvert_exporter": "python",
   "pygments_lexer": "ipython3",
   "version": "3.8.10"
  }
 },
 "nbformat": 4,
 "nbformat_minor": 5
}
