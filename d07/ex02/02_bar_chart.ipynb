{
 "cells": [
  {
   "cell_type": "markdown",
   "id": "c6f1bb5c",
   "metadata": {},
   "source": [
    "## Imports"
   ]
  },
  {
   "cell_type": "code",
   "execution_count": 1,
   "id": "f02e0d4f",
   "metadata": {},
   "outputs": [],
   "source": [
    "import pandas as pd\n",
    "import sqlite3"
   ]
  },
  {
   "cell_type": "code",
   "execution_count": 2,
   "id": "41fe7b5e",
   "metadata": {},
   "outputs": [],
   "source": [
    "connect = sqlite3.connect('../data/checking-logs.sqlite.sqlite')"
   ]
  },
  {
   "cell_type": "markdown",
   "id": "4adf5a8c",
   "metadata": {},
   "source": [
    "## analyze only the users and not the admins"
   ]
  },
  {
   "cell_type": "code",
   "execution_count": 3,
   "id": "60e5df38",
   "metadata": {},
   "outputs": [
    {
     "data": {
      "text/html": [
       "<div>\n",
       "<style scoped>\n",
       "    .dataframe tbody tr th:only-of-type {\n",
       "        vertical-align: middle;\n",
       "    }\n",
       "\n",
       "    .dataframe tbody tr th {\n",
       "        vertical-align: top;\n",
       "    }\n",
       "\n",
       "    .dataframe thead th {\n",
       "        text-align: right;\n",
       "    }\n",
       "</style>\n",
       "<table border=\"1\" class=\"dataframe\">\n",
       "  <thead>\n",
       "    <tr style=\"text-align: right;\">\n",
       "      <th></th>\n",
       "      <th>uid</th>\n",
       "      <th>timestamp</th>\n",
       "    </tr>\n",
       "  </thead>\n",
       "  <tbody>\n",
       "    <tr>\n",
       "      <th>0</th>\n",
       "      <td>user_4</td>\n",
       "      <td>2020-04-17 05:19:02.744528</td>\n",
       "    </tr>\n",
       "    <tr>\n",
       "      <th>1</th>\n",
       "      <td>user_4</td>\n",
       "      <td>2020-04-17 05:22:35.249331</td>\n",
       "    </tr>\n",
       "    <tr>\n",
       "      <th>2</th>\n",
       "      <td>user_4</td>\n",
       "      <td>2020-04-17 05:22:45.549397</td>\n",
       "    </tr>\n",
       "    <tr>\n",
       "      <th>3</th>\n",
       "      <td>user_4</td>\n",
       "      <td>2020-04-17 05:34:14.691200</td>\n",
       "    </tr>\n",
       "    <tr>\n",
       "      <th>4</th>\n",
       "      <td>user_4</td>\n",
       "      <td>2020-04-17 05:34:24.422370</td>\n",
       "    </tr>\n",
       "    <tr>\n",
       "      <th>...</th>\n",
       "      <td>...</td>\n",
       "      <td>...</td>\n",
       "    </tr>\n",
       "    <tr>\n",
       "      <th>3202</th>\n",
       "      <td>user_1</td>\n",
       "      <td>2020-05-21 20:19:06.872761</td>\n",
       "    </tr>\n",
       "    <tr>\n",
       "      <th>3203</th>\n",
       "      <td>user_1</td>\n",
       "      <td>2020-05-21 20:22:41.785725</td>\n",
       "    </tr>\n",
       "    <tr>\n",
       "      <th>3204</th>\n",
       "      <td>user_1</td>\n",
       "      <td>2020-05-21 20:22:41.877806</td>\n",
       "    </tr>\n",
       "    <tr>\n",
       "      <th>3205</th>\n",
       "      <td>user_1</td>\n",
       "      <td>2020-05-21 20:37:00.129678</td>\n",
       "    </tr>\n",
       "    <tr>\n",
       "      <th>3206</th>\n",
       "      <td>user_1</td>\n",
       "      <td>2020-05-21 20:37:00.290491</td>\n",
       "    </tr>\n",
       "  </tbody>\n",
       "</table>\n",
       "<p>3207 rows × 2 columns</p>\n",
       "</div>"
      ],
      "text/plain": [
       "         uid                  timestamp\n",
       "0     user_4 2020-04-17 05:19:02.744528\n",
       "1     user_4 2020-04-17 05:22:35.249331\n",
       "2     user_4 2020-04-17 05:22:45.549397\n",
       "3     user_4 2020-04-17 05:34:14.691200\n",
       "4     user_4 2020-04-17 05:34:24.422370\n",
       "...      ...                        ...\n",
       "3202  user_1 2020-05-21 20:19:06.872761\n",
       "3203  user_1 2020-05-21 20:22:41.785725\n",
       "3204  user_1 2020-05-21 20:22:41.877806\n",
       "3205  user_1 2020-05-21 20:37:00.129678\n",
       "3206  user_1 2020-05-21 20:37:00.290491\n",
       "\n",
       "[3207 rows x 2 columns]"
      ]
     },
     "execution_count": 3,
     "metadata": {},
     "output_type": "execute_result"
    }
   ],
   "source": [
    "request = '''\n",
    "SELECT uid, timestamp \n",
    "FROM checker\n",
    "WHERE uid LIKE 'user_%'\n",
    "'''\n",
    "commits = pd.io.sql.read_sql(request, connect, parse_dates=['timestamp'])\n",
    "commits"
   ]
  },
  {
   "cell_type": "markdown",
   "id": "7e72a327",
   "metadata": {},
   "source": [
    "## the fontsize and the figsize are still the same"
   ]
  },
  {
   "cell_type": "markdown",
   "id": "6ae1ce6b",
   "metadata": {},
   "source": [
    "## night is from 0:00:00 to 03:59:59, morning is from 04:00:00 to 09:59:59, afternoon is from 10:00:00 to 16:59:59, evening is from 17:00:00 to 23:59:59"
   ]
  },
  {
   "cell_type": "code",
   "execution_count": 4,
   "id": "c349c1c8",
   "metadata": {},
   "outputs": [
    {
     "data": {
      "text/html": [
       "<div>\n",
       "<style scoped>\n",
       "    .dataframe tbody tr th:only-of-type {\n",
       "        vertical-align: middle;\n",
       "    }\n",
       "\n",
       "    .dataframe tbody tr th {\n",
       "        vertical-align: top;\n",
       "    }\n",
       "\n",
       "    .dataframe thead th {\n",
       "        text-align: right;\n",
       "    }\n",
       "</style>\n",
       "<table border=\"1\" class=\"dataframe\">\n",
       "  <thead>\n",
       "    <tr style=\"text-align: right;\">\n",
       "      <th></th>\n",
       "      <th>uid</th>\n",
       "      <th>timestamp</th>\n",
       "      <th>date</th>\n",
       "      <th>hour</th>\n",
       "    </tr>\n",
       "  </thead>\n",
       "  <tbody>\n",
       "    <tr>\n",
       "      <th>0</th>\n",
       "      <td>user_4</td>\n",
       "      <td>2020-04-17 05:19:02.744528</td>\n",
       "      <td>2020-04-17</td>\n",
       "      <td>5</td>\n",
       "    </tr>\n",
       "    <tr>\n",
       "      <th>1</th>\n",
       "      <td>user_4</td>\n",
       "      <td>2020-04-17 05:22:35.249331</td>\n",
       "      <td>2020-04-17</td>\n",
       "      <td>5</td>\n",
       "    </tr>\n",
       "    <tr>\n",
       "      <th>2</th>\n",
       "      <td>user_4</td>\n",
       "      <td>2020-04-17 05:22:45.549397</td>\n",
       "      <td>2020-04-17</td>\n",
       "      <td>5</td>\n",
       "    </tr>\n",
       "    <tr>\n",
       "      <th>3</th>\n",
       "      <td>user_4</td>\n",
       "      <td>2020-04-17 05:34:14.691200</td>\n",
       "      <td>2020-04-17</td>\n",
       "      <td>5</td>\n",
       "    </tr>\n",
       "    <tr>\n",
       "      <th>4</th>\n",
       "      <td>user_4</td>\n",
       "      <td>2020-04-17 05:34:24.422370</td>\n",
       "      <td>2020-04-17</td>\n",
       "      <td>5</td>\n",
       "    </tr>\n",
       "    <tr>\n",
       "      <th>...</th>\n",
       "      <td>...</td>\n",
       "      <td>...</td>\n",
       "      <td>...</td>\n",
       "      <td>...</td>\n",
       "    </tr>\n",
       "    <tr>\n",
       "      <th>3202</th>\n",
       "      <td>user_1</td>\n",
       "      <td>2020-05-21 20:19:06.872761</td>\n",
       "      <td>2020-05-21</td>\n",
       "      <td>20</td>\n",
       "    </tr>\n",
       "    <tr>\n",
       "      <th>3203</th>\n",
       "      <td>user_1</td>\n",
       "      <td>2020-05-21 20:22:41.785725</td>\n",
       "      <td>2020-05-21</td>\n",
       "      <td>20</td>\n",
       "    </tr>\n",
       "    <tr>\n",
       "      <th>3204</th>\n",
       "      <td>user_1</td>\n",
       "      <td>2020-05-21 20:22:41.877806</td>\n",
       "      <td>2020-05-21</td>\n",
       "      <td>20</td>\n",
       "    </tr>\n",
       "    <tr>\n",
       "      <th>3205</th>\n",
       "      <td>user_1</td>\n",
       "      <td>2020-05-21 20:37:00.129678</td>\n",
       "      <td>2020-05-21</td>\n",
       "      <td>20</td>\n",
       "    </tr>\n",
       "    <tr>\n",
       "      <th>3206</th>\n",
       "      <td>user_1</td>\n",
       "      <td>2020-05-21 20:37:00.290491</td>\n",
       "      <td>2020-05-21</td>\n",
       "      <td>20</td>\n",
       "    </tr>\n",
       "  </tbody>\n",
       "</table>\n",
       "<p>3207 rows × 4 columns</p>\n",
       "</div>"
      ],
      "text/plain": [
       "         uid                  timestamp        date  hour\n",
       "0     user_4 2020-04-17 05:19:02.744528  2020-04-17     5\n",
       "1     user_4 2020-04-17 05:22:35.249331  2020-04-17     5\n",
       "2     user_4 2020-04-17 05:22:45.549397  2020-04-17     5\n",
       "3     user_4 2020-04-17 05:34:14.691200  2020-04-17     5\n",
       "4     user_4 2020-04-17 05:34:24.422370  2020-04-17     5\n",
       "...      ...                        ...         ...   ...\n",
       "3202  user_1 2020-05-21 20:19:06.872761  2020-05-21    20\n",
       "3203  user_1 2020-05-21 20:22:41.785725  2020-05-21    20\n",
       "3204  user_1 2020-05-21 20:22:41.877806  2020-05-21    20\n",
       "3205  user_1 2020-05-21 20:37:00.129678  2020-05-21    20\n",
       "3206  user_1 2020-05-21 20:37:00.290491  2020-05-21    20\n",
       "\n",
       "[3207 rows x 4 columns]"
      ]
     },
     "execution_count": 4,
     "metadata": {},
     "output_type": "execute_result"
    }
   ],
   "source": [
    "commits['date'] = commits.timestamp.dt.date\n",
    "commits['hour'] = commits.timestamp.dt.hour\n",
    "commits"
   ]
  },
  {
   "cell_type": "code",
   "execution_count": 5,
   "id": "eb25adbc",
   "metadata": {},
   "outputs": [
    {
     "data": {
      "text/html": [
       "<div>\n",
       "<style scoped>\n",
       "    .dataframe tbody tr th:only-of-type {\n",
       "        vertical-align: middle;\n",
       "    }\n",
       "\n",
       "    .dataframe tbody tr th {\n",
       "        vertical-align: top;\n",
       "    }\n",
       "\n",
       "    .dataframe thead th {\n",
       "        text-align: right;\n",
       "    }\n",
       "</style>\n",
       "<table border=\"1\" class=\"dataframe\">\n",
       "  <thead>\n",
       "    <tr style=\"text-align: right;\">\n",
       "      <th></th>\n",
       "      <th>uid</th>\n",
       "      <th>timestamp</th>\n",
       "      <th>date</th>\n",
       "      <th>hour</th>\n",
       "      <th>daytime</th>\n",
       "    </tr>\n",
       "  </thead>\n",
       "  <tbody>\n",
       "    <tr>\n",
       "      <th>0</th>\n",
       "      <td>user_4</td>\n",
       "      <td>2020-04-17 05:19:02.744528</td>\n",
       "      <td>2020-04-17</td>\n",
       "      <td>5</td>\n",
       "      <td>morning</td>\n",
       "    </tr>\n",
       "    <tr>\n",
       "      <th>1</th>\n",
       "      <td>user_4</td>\n",
       "      <td>2020-04-17 05:22:35.249331</td>\n",
       "      <td>2020-04-17</td>\n",
       "      <td>5</td>\n",
       "      <td>morning</td>\n",
       "    </tr>\n",
       "    <tr>\n",
       "      <th>2</th>\n",
       "      <td>user_4</td>\n",
       "      <td>2020-04-17 05:22:45.549397</td>\n",
       "      <td>2020-04-17</td>\n",
       "      <td>5</td>\n",
       "      <td>morning</td>\n",
       "    </tr>\n",
       "    <tr>\n",
       "      <th>3</th>\n",
       "      <td>user_4</td>\n",
       "      <td>2020-04-17 05:34:14.691200</td>\n",
       "      <td>2020-04-17</td>\n",
       "      <td>5</td>\n",
       "      <td>morning</td>\n",
       "    </tr>\n",
       "    <tr>\n",
       "      <th>4</th>\n",
       "      <td>user_4</td>\n",
       "      <td>2020-04-17 05:34:24.422370</td>\n",
       "      <td>2020-04-17</td>\n",
       "      <td>5</td>\n",
       "      <td>morning</td>\n",
       "    </tr>\n",
       "    <tr>\n",
       "      <th>...</th>\n",
       "      <td>...</td>\n",
       "      <td>...</td>\n",
       "      <td>...</td>\n",
       "      <td>...</td>\n",
       "      <td>...</td>\n",
       "    </tr>\n",
       "    <tr>\n",
       "      <th>3202</th>\n",
       "      <td>user_1</td>\n",
       "      <td>2020-05-21 20:19:06.872761</td>\n",
       "      <td>2020-05-21</td>\n",
       "      <td>20</td>\n",
       "      <td>evening</td>\n",
       "    </tr>\n",
       "    <tr>\n",
       "      <th>3203</th>\n",
       "      <td>user_1</td>\n",
       "      <td>2020-05-21 20:22:41.785725</td>\n",
       "      <td>2020-05-21</td>\n",
       "      <td>20</td>\n",
       "      <td>evening</td>\n",
       "    </tr>\n",
       "    <tr>\n",
       "      <th>3204</th>\n",
       "      <td>user_1</td>\n",
       "      <td>2020-05-21 20:22:41.877806</td>\n",
       "      <td>2020-05-21</td>\n",
       "      <td>20</td>\n",
       "      <td>evening</td>\n",
       "    </tr>\n",
       "    <tr>\n",
       "      <th>3205</th>\n",
       "      <td>user_1</td>\n",
       "      <td>2020-05-21 20:37:00.129678</td>\n",
       "      <td>2020-05-21</td>\n",
       "      <td>20</td>\n",
       "      <td>evening</td>\n",
       "    </tr>\n",
       "    <tr>\n",
       "      <th>3206</th>\n",
       "      <td>user_1</td>\n",
       "      <td>2020-05-21 20:37:00.290491</td>\n",
       "      <td>2020-05-21</td>\n",
       "      <td>20</td>\n",
       "      <td>evening</td>\n",
       "    </tr>\n",
       "  </tbody>\n",
       "</table>\n",
       "<p>3207 rows × 5 columns</p>\n",
       "</div>"
      ],
      "text/plain": [
       "         uid                  timestamp        date  hour  daytime\n",
       "0     user_4 2020-04-17 05:19:02.744528  2020-04-17     5  morning\n",
       "1     user_4 2020-04-17 05:22:35.249331  2020-04-17     5  morning\n",
       "2     user_4 2020-04-17 05:22:45.549397  2020-04-17     5  morning\n",
       "3     user_4 2020-04-17 05:34:14.691200  2020-04-17     5  morning\n",
       "4     user_4 2020-04-17 05:34:24.422370  2020-04-17     5  morning\n",
       "...      ...                        ...         ...   ...      ...\n",
       "3202  user_1 2020-05-21 20:19:06.872761  2020-05-21    20  evening\n",
       "3203  user_1 2020-05-21 20:22:41.785725  2020-05-21    20  evening\n",
       "3204  user_1 2020-05-21 20:22:41.877806  2020-05-21    20  evening\n",
       "3205  user_1 2020-05-21 20:37:00.129678  2020-05-21    20  evening\n",
       "3206  user_1 2020-05-21 20:37:00.290491  2020-05-21    20  evening\n",
       "\n",
       "[3207 rows x 5 columns]"
      ]
     },
     "execution_count": 5,
     "metadata": {},
     "output_type": "execute_result"
    }
   ],
   "source": [
    "commits['daytime'] = pd.cut(commits.hour,\n",
    "                            bins=[0, 4, 10, 17, 24],\n",
    "                            labels=['nigth', 'morning',\n",
    "                                    'afternoon', 'evening'],\n",
    "                            right=False,\n",
    "                            include_lowest=True)\n",
    "commits"
   ]
  },
  {
   "cell_type": "code",
   "execution_count": 6,
   "id": "18e21fe4",
   "metadata": {},
   "outputs": [
    {
     "data": {
      "text/html": [
       "<div>\n",
       "<style scoped>\n",
       "    .dataframe tbody tr th:only-of-type {\n",
       "        vertical-align: middle;\n",
       "    }\n",
       "\n",
       "    .dataframe tbody tr th {\n",
       "        vertical-align: top;\n",
       "    }\n",
       "\n",
       "    .dataframe thead th {\n",
       "        text-align: right;\n",
       "    }\n",
       "</style>\n",
       "<table border=\"1\" class=\"dataframe\">\n",
       "  <thead>\n",
       "    <tr style=\"text-align: right;\">\n",
       "      <th></th>\n",
       "      <th>date</th>\n",
       "      <th>daytime</th>\n",
       "      <th>hour</th>\n",
       "    </tr>\n",
       "  </thead>\n",
       "  <tbody>\n",
       "    <tr>\n",
       "      <th>0</th>\n",
       "      <td>2020-04-17</td>\n",
       "      <td>nigth</td>\n",
       "      <td>0</td>\n",
       "    </tr>\n",
       "    <tr>\n",
       "      <th>1</th>\n",
       "      <td>2020-04-17</td>\n",
       "      <td>morning</td>\n",
       "      <td>13</td>\n",
       "    </tr>\n",
       "    <tr>\n",
       "      <th>2</th>\n",
       "      <td>2020-04-17</td>\n",
       "      <td>afternoon</td>\n",
       "      <td>10</td>\n",
       "    </tr>\n",
       "    <tr>\n",
       "      <th>3</th>\n",
       "      <td>2020-04-17</td>\n",
       "      <td>evening</td>\n",
       "      <td>0</td>\n",
       "    </tr>\n",
       "    <tr>\n",
       "      <th>4</th>\n",
       "      <td>2020-04-18</td>\n",
       "      <td>nigth</td>\n",
       "      <td>0</td>\n",
       "    </tr>\n",
       "    <tr>\n",
       "      <th>...</th>\n",
       "      <td>...</td>\n",
       "      <td>...</td>\n",
       "      <td>...</td>\n",
       "    </tr>\n",
       "    <tr>\n",
       "      <th>135</th>\n",
       "      <td>2020-05-20</td>\n",
       "      <td>evening</td>\n",
       "      <td>10</td>\n",
       "    </tr>\n",
       "    <tr>\n",
       "      <th>136</th>\n",
       "      <td>2020-05-21</td>\n",
       "      <td>nigth</td>\n",
       "      <td>0</td>\n",
       "    </tr>\n",
       "    <tr>\n",
       "      <th>137</th>\n",
       "      <td>2020-05-21</td>\n",
       "      <td>morning</td>\n",
       "      <td>1</td>\n",
       "    </tr>\n",
       "    <tr>\n",
       "      <th>138</th>\n",
       "      <td>2020-05-21</td>\n",
       "      <td>afternoon</td>\n",
       "      <td>27</td>\n",
       "    </tr>\n",
       "    <tr>\n",
       "      <th>139</th>\n",
       "      <td>2020-05-21</td>\n",
       "      <td>evening</td>\n",
       "      <td>21</td>\n",
       "    </tr>\n",
       "  </tbody>\n",
       "</table>\n",
       "<p>140 rows × 3 columns</p>\n",
       "</div>"
      ],
      "text/plain": [
       "           date    daytime  hour\n",
       "0    2020-04-17      nigth     0\n",
       "1    2020-04-17    morning    13\n",
       "2    2020-04-17  afternoon    10\n",
       "3    2020-04-17    evening     0\n",
       "4    2020-04-18      nigth     0\n",
       "..          ...        ...   ...\n",
       "135  2020-05-20    evening    10\n",
       "136  2020-05-21      nigth     0\n",
       "137  2020-05-21    morning     1\n",
       "138  2020-05-21  afternoon    27\n",
       "139  2020-05-21    evening    21\n",
       "\n",
       "[140 rows x 3 columns]"
      ]
     },
     "execution_count": 6,
     "metadata": {},
     "output_type": "execute_result"
    }
   ],
   "source": [
    "commits_groupped = commits.groupby(by=['date', 'daytime']).count()[\n",
    "    'hour'].reset_index()\n",
    "commits_groupped"
   ]
  },
  {
   "cell_type": "code",
   "execution_count": 7,
   "id": "5c0661f0",
   "metadata": {},
   "outputs": [
    {
     "name": "stdout",
     "output_type": "stream",
     "text": [
      "<class 'pandas.core.frame.DataFrame'>\n",
      "Index: 35 entries, 2020-04-17 to 2020-05-21\n",
      "Data columns (total 4 columns):\n",
      " #   Column     Non-Null Count  Dtype\n",
      "---  ------     --------------  -----\n",
      " 0   nigth      35 non-null     int64\n",
      " 1   morning    35 non-null     int64\n",
      " 2   afternoon  35 non-null     int64\n",
      " 3   evening    35 non-null     int64\n",
      "dtypes: int64(4)\n",
      "memory usage: 1.4+ KB\n"
     ]
    }
   ],
   "source": [
    "df_pivot = pd.pivot(commits_groupped, values='hour',\n",
    "                    index='date', columns='daytime')\n",
    "df_pivot.info()"
   ]
  },
  {
   "cell_type": "markdown",
   "id": "27446ede",
   "metadata": {},
   "source": [
    "## choose a palette that you really enjoy, you do not have to replicate it from the graph above"
   ]
  },
  {
   "cell_type": "code",
   "execution_count": 8,
   "id": "7cfb2db4",
   "metadata": {},
   "outputs": [
    {
     "data": {
      "image/png": "[encoded data removed]",
      "text/plain": [
       "<Figure size 1080x576 with 1 Axes>"
      ]
     },
     "metadata": {
      "needs_background": "light"
     },
     "output_type": "display_data"
    }
   ],
   "source": [
    "ax = df_pivot.plot(kind='bar',\n",
    "                   stacked=True,\n",
    "                   figsize=(15, 8),\n",
    "                   title='Commits per day',\n",
    "                   fontsize=8,\n",
    "                   rot=90,\n",
    "                   color=['#001AFF', '#E60000', '#FFC3C3', '#00D7D7'])\n",
    "ax.set_facecolor('#F5F5F5')\n",
    "ax.grid('on', which='major', axis='y')"
   ]
  },
  {
   "cell_type": "markdown",
   "id": "570ded6b",
   "metadata": {},
   "source": [
    "## at the end of your Jupyter Notebook, create a markdown cell and insert the questions:"
   ]
  },
  {
   "cell_type": "code",
   "execution_count": 9,
   "id": "64f135c7",
   "metadata": {
    "scrolled": true
   },
   "outputs": [
    {
     "data": {
      "text/plain": [
       "daytime\n",
       "evening      1611\n",
       "afternoon    1391\n",
       "morning       184\n",
       "nigth          21\n",
       "dtype: int64"
      ]
     },
     "execution_count": 9,
     "metadata": {},
     "output_type": "execute_result"
    }
   ],
   "source": [
    "df_pivot.sum().sort_values(ascending=False)"
   ]
  },
  {
   "cell_type": "markdown",
   "id": "147a8e35",
   "metadata": {},
   "source": [
    "#### \"evening and afternoon\" - when our users usually commit the labs"
   ]
  },
  {
   "cell_type": "code",
   "execution_count": 10,
   "id": "b26b209f",
   "metadata": {},
   "outputs": [
    {
     "data": {
      "text/plain": [
       "date\n",
       "2020-05-12    323\n",
       "2020-04-26    261\n",
       "2020-05-13    211\n",
       "2020-05-11    186\n",
       "2020-04-25    104\n",
       "2020-05-08     87\n",
       "2020-05-09     86\n",
       "2020-04-18     69\n",
       "2020-05-01     60\n",
       "2020-04-30     53\n",
       "2020-05-17     48\n",
       "2020-04-23     43\n",
       "2020-04-22     28\n",
       "2020-04-20     25\n",
       "2020-04-21     25\n",
       "2020-04-29     17\n",
       "2020-04-24     16\n",
       "2020-04-27      6\n",
       "2020-05-16      4\n",
       "2020-05-18      3\n",
       "dtype: int64"
      ]
     },
     "execution_count": 10,
     "metadata": {},
     "output_type": "execute_result"
    }
   ],
   "source": [
    "df_pivot[df_pivot['evening'] > df_pivot['afternoon']].sum(\n",
    "    axis=1).sort_values(ascending=False)"
   ]
  },
  {
   "cell_type": "markdown",
   "id": "06dd720d",
   "metadata": {},
   "source": [
    "#### 2020-05-12 - the day when the number of commits in the evening is higher than in the afternoon"
   ]
  },
  {
   "cell_type": "code",
   "execution_count": 11,
   "id": "1b3c3773",
   "metadata": {},
   "outputs": [],
   "source": [
    "connect.close()"
   ]
  }
 ],
 "metadata": {
  "kernelspec": {
   "display_name": "Python 3",
   "language": "python",
   "name": "python3"
  },
  "language_info": {
   "codemirror_mode": {
    "name": "ipython",
    "version": 3
   },
   "file_extension": ".py",
   "mimetype": "text/x-python",
   "name": "python",
   "nbconvert_exporter": "python",
   "pygments_lexer": "ipython3",
   "version": "3.8.10"
  }
 },
 "nbformat": 4,
 "nbformat_minor": 5
}
