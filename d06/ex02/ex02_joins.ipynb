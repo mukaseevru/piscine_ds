{
 "cells": [
  {
   "cell_type": "markdown",
   "id": "f77eb851",
   "metadata": {},
   "source": [
    "## Imports"
   ]
  },
  {
   "cell_type": "code",
   "execution_count": 1,
   "id": "5416ce4e",
   "metadata": {},
   "outputs": [],
   "source": [
    "import pandas as pd\n",
    "import sqlite3"
   ]
  },
  {
   "cell_type": "markdown",
   "id": "92193b85",
   "metadata": {},
   "source": [
    "## create a connection to the database using the library sqlite3"
   ]
  },
  {
   "cell_type": "code",
   "execution_count": 2,
   "id": "a89a4e3b",
   "metadata": {},
   "outputs": [],
   "source": [
    "connect = sqlite3.connect('../data/checking-logs.sqlite.sqlite_copy')"
   ]
  },
  {
   "cell_type": "markdown",
   "id": "c982c44b",
   "metadata": {},
   "source": [
    "## create a new table datamart in the database by joining the tables pageviews and checker using only one query"
   ]
  },
  {
   "cell_type": "code",
   "execution_count": 3,
   "id": "961aac43",
   "metadata": {},
   "outputs": [
    {
     "data": {
      "text/html": [
       "<div>\n",
       "<style scoped>\n",
       "    .dataframe tbody tr th:only-of-type {\n",
       "        vertical-align: middle;\n",
       "    }\n",
       "\n",
       "    .dataframe tbody tr th {\n",
       "        vertical-align: top;\n",
       "    }\n",
       "\n",
       "    .dataframe thead th {\n",
       "        text-align: right;\n",
       "    }\n",
       "</style>\n",
       "<table border=\"1\" class=\"dataframe\">\n",
       "  <thead>\n",
       "    <tr style=\"text-align: right;\">\n",
       "      <th></th>\n",
       "      <th>uid</th>\n",
       "      <th>labname</th>\n",
       "      <th>first_commit_ts</th>\n",
       "      <th>first_view_ts</th>\n",
       "    </tr>\n",
       "  </thead>\n",
       "  <tbody>\n",
       "    <tr>\n",
       "      <th>0</th>\n",
       "      <td>user_4</td>\n",
       "      <td>project1</td>\n",
       "      <td>2020-04-17 05:19:02.744528</td>\n",
       "      <td>NaT</td>\n",
       "    </tr>\n",
       "    <tr>\n",
       "      <th>1</th>\n",
       "      <td>user_4</td>\n",
       "      <td>laba04</td>\n",
       "      <td>2020-04-17 11:33:17.366400</td>\n",
       "      <td>NaT</td>\n",
       "    </tr>\n",
       "    <tr>\n",
       "      <th>2</th>\n",
       "      <td>user_4</td>\n",
       "      <td>laba04s</td>\n",
       "      <td>2020-04-17 11:48:41.992466</td>\n",
       "      <td>NaT</td>\n",
       "    </tr>\n",
       "    <tr>\n",
       "      <th>3</th>\n",
       "      <td>user_17</td>\n",
       "      <td>project1</td>\n",
       "      <td>2020-04-18 07:56:45.408648</td>\n",
       "      <td>2020-04-18 10:56:55.833899</td>\n",
       "    </tr>\n",
       "    <tr>\n",
       "      <th>4</th>\n",
       "      <td>user_30</td>\n",
       "      <td>laba04</td>\n",
       "      <td>2020-04-18 13:36:53.971502</td>\n",
       "      <td>2020-04-17 22:46:26.785035</td>\n",
       "    </tr>\n",
       "    <tr>\n",
       "      <th>...</th>\n",
       "      <td>...</td>\n",
       "      <td>...</td>\n",
       "      <td>...</td>\n",
       "      <td>...</td>\n",
       "    </tr>\n",
       "    <tr>\n",
       "      <th>135</th>\n",
       "      <td>user_23</td>\n",
       "      <td>laba06</td>\n",
       "      <td>2020-05-21 08:34:10.517205</td>\n",
       "      <td>NaT</td>\n",
       "    </tr>\n",
       "    <tr>\n",
       "      <th>136</th>\n",
       "      <td>user_19</td>\n",
       "      <td>laba06s</td>\n",
       "      <td>2020-05-21 13:27:06.705881</td>\n",
       "      <td>2020-04-21 20:30:38.034966</td>\n",
       "    </tr>\n",
       "    <tr>\n",
       "      <th>137</th>\n",
       "      <td>user_23</td>\n",
       "      <td>laba06s</td>\n",
       "      <td>2020-05-21 14:29:15.709568</td>\n",
       "      <td>NaT</td>\n",
       "    </tr>\n",
       "    <tr>\n",
       "      <th>138</th>\n",
       "      <td>user_17</td>\n",
       "      <td>laba06</td>\n",
       "      <td>2020-05-21 15:21:31.567615</td>\n",
       "      <td>2020-04-18 10:56:55.833899</td>\n",
       "    </tr>\n",
       "    <tr>\n",
       "      <th>139</th>\n",
       "      <td>user_17</td>\n",
       "      <td>laba06s</td>\n",
       "      <td>2020-05-21 17:39:17.783615</td>\n",
       "      <td>2020-04-18 10:56:55.833899</td>\n",
       "    </tr>\n",
       "  </tbody>\n",
       "</table>\n",
       "<p>140 rows × 4 columns</p>\n",
       "</div>"
      ],
      "text/plain": [
       "         uid   labname            first_commit_ts              first_view_ts\n",
       "0     user_4  project1 2020-04-17 05:19:02.744528                        NaT\n",
       "1     user_4    laba04 2020-04-17 11:33:17.366400                        NaT\n",
       "2     user_4   laba04s 2020-04-17 11:48:41.992466                        NaT\n",
       "3    user_17  project1 2020-04-18 07:56:45.408648 2020-04-18 10:56:55.833899\n",
       "4    user_30    laba04 2020-04-18 13:36:53.971502 2020-04-17 22:46:26.785035\n",
       "..       ...       ...                        ...                        ...\n",
       "135  user_23    laba06 2020-05-21 08:34:10.517205                        NaT\n",
       "136  user_19   laba06s 2020-05-21 13:27:06.705881 2020-04-21 20:30:38.034966\n",
       "137  user_23   laba06s 2020-05-21 14:29:15.709568                        NaT\n",
       "138  user_17    laba06 2020-05-21 15:21:31.567615 2020-04-18 10:56:55.833899\n",
       "139  user_17   laba06s 2020-05-21 17:39:17.783615 2020-04-18 10:56:55.833899\n",
       "\n",
       "[140 rows x 4 columns]"
      ]
     },
     "execution_count": 3,
     "metadata": {},
     "output_type": "execute_result"
    }
   ],
   "source": [
    "request = '''\n",
    "SELECT checker.uid,\n",
    "       checker.labname,\n",
    "       checker.timestamp AS first_commit_ts,\n",
    "       pageviews.datetime AS first_view_ts\n",
    "FROM checker \n",
    "LEFT JOIN pageviews ON checker.uid=pageviews.uid\n",
    "WHERE status='ready'\n",
    "AND numTrials=1\n",
    "AND labname IN ('laba04', 'laba04s', 'laba05', 'laba06', 'laba06s', 'project1')\n",
    "AND checker.uid LIKE 'user_%'\n",
    "AND (pageviews.datetime = (SELECT MIN(pageviews.datetime)\n",
    "                           FROM pageviews\n",
    "                           WHERE uid=checker.uid)\n",
    "     OR pageviews.datetime IS NULL)\n",
    "'''\n",
    "datamart = pd.io.sql.read_sql(request, connect, parse_dates=[\n",
    "                              'first_commit_ts', 'first_view_ts'])\n",
    "datamart"
   ]
  },
  {
   "cell_type": "code",
   "execution_count": 4,
   "id": "0a5c70df",
   "metadata": {},
   "outputs": [
    {
     "name": "stdout",
     "output_type": "stream",
     "text": [
      "<class 'pandas.core.frame.DataFrame'>\n",
      "RangeIndex: 140 entries, 0 to 139\n",
      "Data columns (total 4 columns):\n",
      " #   Column           Non-Null Count  Dtype         \n",
      "---  ------           --------------  -----         \n",
      " 0   uid              140 non-null    object        \n",
      " 1   labname          140 non-null    object        \n",
      " 2   first_commit_ts  140 non-null    datetime64[ns]\n",
      " 3   first_view_ts    59 non-null     datetime64[ns]\n",
      "dtypes: datetime64[ns](2), object(2)\n",
      "memory usage: 4.5+ KB\n"
     ]
    }
   ],
   "source": [
    "datamart.info()"
   ]
  },
  {
   "cell_type": "markdown",
   "id": "71fd8da6",
   "metadata": {},
   "source": [
    "## using Pandas methods, create two dataframes: test and control"
   ]
  },
  {
   "cell_type": "code",
   "execution_count": 5,
   "id": "bd8df78d",
   "metadata": {},
   "outputs": [
    {
     "data": {
      "text/html": [
       "<div>\n",
       "<style scoped>\n",
       "    .dataframe tbody tr th:only-of-type {\n",
       "        vertical-align: middle;\n",
       "    }\n",
       "\n",
       "    .dataframe tbody tr th {\n",
       "        vertical-align: top;\n",
       "    }\n",
       "\n",
       "    .dataframe thead th {\n",
       "        text-align: right;\n",
       "    }\n",
       "</style>\n",
       "<table border=\"1\" class=\"dataframe\">\n",
       "  <thead>\n",
       "    <tr style=\"text-align: right;\">\n",
       "      <th></th>\n",
       "      <th>uid</th>\n",
       "      <th>labname</th>\n",
       "      <th>first_commit_ts</th>\n",
       "      <th>first_view_ts</th>\n",
       "    </tr>\n",
       "  </thead>\n",
       "  <tbody>\n",
       "    <tr>\n",
       "      <th>0</th>\n",
       "      <td>user_17</td>\n",
       "      <td>project1</td>\n",
       "      <td>2020-04-18 07:56:45.408648</td>\n",
       "      <td>2020-04-18 10:56:55.833899</td>\n",
       "    </tr>\n",
       "    <tr>\n",
       "      <th>1</th>\n",
       "      <td>user_30</td>\n",
       "      <td>laba04</td>\n",
       "      <td>2020-04-18 13:36:53.971502</td>\n",
       "      <td>2020-04-17 22:46:26.785035</td>\n",
       "    </tr>\n",
       "    <tr>\n",
       "      <th>2</th>\n",
       "      <td>user_30</td>\n",
       "      <td>laba04s</td>\n",
       "      <td>2020-04-18 14:51:37.498399</td>\n",
       "      <td>2020-04-17 22:46:26.785035</td>\n",
       "    </tr>\n",
       "    <tr>\n",
       "      <th>3</th>\n",
       "      <td>user_14</td>\n",
       "      <td>laba04</td>\n",
       "      <td>2020-04-18 15:14:00.312338</td>\n",
       "      <td>2020-04-18 10:53:52.623447</td>\n",
       "    </tr>\n",
       "    <tr>\n",
       "      <th>4</th>\n",
       "      <td>user_14</td>\n",
       "      <td>laba04s</td>\n",
       "      <td>2020-04-18 22:30:30.247628</td>\n",
       "      <td>2020-04-18 10:53:52.623447</td>\n",
       "    </tr>\n",
       "  </tbody>\n",
       "</table>\n",
       "</div>"
      ],
      "text/plain": [
       "       uid   labname            first_commit_ts              first_view_ts\n",
       "0  user_17  project1 2020-04-18 07:56:45.408648 2020-04-18 10:56:55.833899\n",
       "1  user_30    laba04 2020-04-18 13:36:53.971502 2020-04-17 22:46:26.785035\n",
       "2  user_30   laba04s 2020-04-18 14:51:37.498399 2020-04-17 22:46:26.785035\n",
       "3  user_14    laba04 2020-04-18 15:14:00.312338 2020-04-18 10:53:52.623447\n",
       "4  user_14   laba04s 2020-04-18 22:30:30.247628 2020-04-18 10:53:52.623447"
      ]
     },
     "execution_count": 5,
     "metadata": {},
     "output_type": "execute_result"
    }
   ],
   "source": [
    "test = datamart[datamart['first_view_ts'].notna()].reset_index(drop=True)\n",
    "test.head()"
   ]
  },
  {
   "cell_type": "code",
   "execution_count": 6,
   "id": "7df84029",
   "metadata": {},
   "outputs": [
    {
     "name": "stdout",
     "output_type": "stream",
     "text": [
      "<class 'pandas.core.frame.DataFrame'>\n",
      "RangeIndex: 59 entries, 0 to 58\n",
      "Data columns (total 4 columns):\n",
      " #   Column           Non-Null Count  Dtype         \n",
      "---  ------           --------------  -----         \n",
      " 0   uid              59 non-null     object        \n",
      " 1   labname          59 non-null     object        \n",
      " 2   first_commit_ts  59 non-null     datetime64[ns]\n",
      " 3   first_view_ts    59 non-null     datetime64[ns]\n",
      "dtypes: datetime64[ns](2), object(2)\n",
      "memory usage: 2.0+ KB\n"
     ]
    }
   ],
   "source": [
    "test.info()"
   ]
  },
  {
   "cell_type": "code",
   "execution_count": 7,
   "id": "5b489832",
   "metadata": {},
   "outputs": [
    {
     "data": {
      "text/html": [
       "<div>\n",
       "<style scoped>\n",
       "    .dataframe tbody tr th:only-of-type {\n",
       "        vertical-align: middle;\n",
       "    }\n",
       "\n",
       "    .dataframe tbody tr th {\n",
       "        vertical-align: top;\n",
       "    }\n",
       "\n",
       "    .dataframe thead th {\n",
       "        text-align: right;\n",
       "    }\n",
       "</style>\n",
       "<table border=\"1\" class=\"dataframe\">\n",
       "  <thead>\n",
       "    <tr style=\"text-align: right;\">\n",
       "      <th></th>\n",
       "      <th>uid</th>\n",
       "      <th>labname</th>\n",
       "      <th>first_commit_ts</th>\n",
       "      <th>first_view_ts</th>\n",
       "    </tr>\n",
       "  </thead>\n",
       "  <tbody>\n",
       "    <tr>\n",
       "      <th>0</th>\n",
       "      <td>user_4</td>\n",
       "      <td>project1</td>\n",
       "      <td>2020-04-17 05:19:02.744528</td>\n",
       "      <td>2020-04-27 00:40:05.761783552</td>\n",
       "    </tr>\n",
       "    <tr>\n",
       "      <th>1</th>\n",
       "      <td>user_4</td>\n",
       "      <td>laba04</td>\n",
       "      <td>2020-04-17 11:33:17.366400</td>\n",
       "      <td>2020-04-27 00:40:05.761783552</td>\n",
       "    </tr>\n",
       "    <tr>\n",
       "      <th>2</th>\n",
       "      <td>user_4</td>\n",
       "      <td>laba04s</td>\n",
       "      <td>2020-04-17 11:48:41.992466</td>\n",
       "      <td>2020-04-27 00:40:05.761783552</td>\n",
       "    </tr>\n",
       "    <tr>\n",
       "      <th>3</th>\n",
       "      <td>user_2</td>\n",
       "      <td>laba04</td>\n",
       "      <td>2020-04-18 13:42:35.482008</td>\n",
       "      <td>2020-04-27 00:40:05.761783552</td>\n",
       "    </tr>\n",
       "    <tr>\n",
       "      <th>4</th>\n",
       "      <td>user_2</td>\n",
       "      <td>laba04s</td>\n",
       "      <td>2020-04-18 13:51:22.291271</td>\n",
       "      <td>2020-04-27 00:40:05.761783552</td>\n",
       "    </tr>\n",
       "  </tbody>\n",
       "</table>\n",
       "</div>"
      ],
      "text/plain": [
       "      uid   labname            first_commit_ts                 first_view_ts\n",
       "0  user_4  project1 2020-04-17 05:19:02.744528 2020-04-27 00:40:05.761783552\n",
       "1  user_4    laba04 2020-04-17 11:33:17.366400 2020-04-27 00:40:05.761783552\n",
       "2  user_4   laba04s 2020-04-17 11:48:41.992466 2020-04-27 00:40:05.761783552\n",
       "3  user_2    laba04 2020-04-18 13:42:35.482008 2020-04-27 00:40:05.761783552\n",
       "4  user_2   laba04s 2020-04-18 13:51:22.291271 2020-04-27 00:40:05.761783552"
      ]
     },
     "execution_count": 7,
     "metadata": {},
     "output_type": "execute_result"
    }
   ],
   "source": [
    "control = datamart[datamart['first_view_ts'].isna()].reset_index(drop=True)\n",
    "control.fillna(test['first_view_ts'].mean(), inplace=True)\n",
    "control.head()"
   ]
  },
  {
   "cell_type": "code",
   "execution_count": 8,
   "id": "d86d8638",
   "metadata": {},
   "outputs": [
    {
     "name": "stdout",
     "output_type": "stream",
     "text": [
      "<class 'pandas.core.frame.DataFrame'>\n",
      "RangeIndex: 81 entries, 0 to 80\n",
      "Data columns (total 4 columns):\n",
      " #   Column           Non-Null Count  Dtype         \n",
      "---  ------           --------------  -----         \n",
      " 0   uid              81 non-null     object        \n",
      " 1   labname          81 non-null     object        \n",
      " 2   first_commit_ts  81 non-null     datetime64[ns]\n",
      " 3   first_view_ts    81 non-null     datetime64[ns]\n",
      "dtypes: datetime64[ns](2), object(2)\n",
      "memory usage: 2.7+ KB\n"
     ]
    }
   ],
   "source": [
    "control.info()"
   ]
  },
  {
   "cell_type": "code",
   "execution_count": 9,
   "id": "2e0b7fe8",
   "metadata": {},
   "outputs": [],
   "source": [
    "test.to_sql('test', connect)\n",
    "control.to_sql('control', connect)"
   ]
  },
  {
   "cell_type": "markdown",
   "id": "fe92b269",
   "metadata": {},
   "source": [
    "## close the connection"
   ]
  },
  {
   "cell_type": "code",
   "execution_count": 10,
   "id": "d2a184e8",
   "metadata": {},
   "outputs": [],
   "source": [
    "connect.close()"
   ]
  }
 ],
 "metadata": {
  "kernelspec": {
   "display_name": "Python 3",
   "language": "python",
   "name": "python3"
  },
  "language_info": {
   "codemirror_mode": {
    "name": "ipython",
    "version": 3
   },
   "file_extension": ".py",
   "mimetype": "text/x-python",
   "name": "python",
   "nbconvert_exporter": "python",
   "pygments_lexer": "ipython3",
   "version": "3.8.10"
  }
 },
 "nbformat": 4,
 "nbformat_minor": 5
}
